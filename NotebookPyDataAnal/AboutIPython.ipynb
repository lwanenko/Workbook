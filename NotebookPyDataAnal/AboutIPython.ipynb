{
 "cells": [
  {
   "cell_type": "markdown",
   "metadata": {},
   "source": [
    "# Тест Команд IPython \n",
    "### ?\n",
    "Для того, щоб вивести інфу про щось в IPython потрібно поставити ? перед або після чогось\n",
    "## Магічні команди  \n",
    "Декілька корисних магічних команд:\n",
    "\n",
    "* %timeit ->  визначає час виконання якоїсь команди і (виконує її декілька разів а потім бере середнє значення)\n",
    "* %run -> команда %run дозволяє виконати будь-який файл .py в контексті поточного сеансу IPython  \n",
    "### Зв'язок з операційною системою \n",
    "* !cmd -> виконує будь-яку команду cmd\n",
    "Також є ще декілька команд для роботи з каталогами мітками і так далі \n",
    "Цікавою є система закладок на каталогів \n"
   ]
  },
  {
   "cell_type": "code",
   "execution_count": null,
   "metadata": {},
   "outputs": [],
   "source": []
  }
 ],
 "metadata": {
  "kernelspec": {
   "display_name": "Python 3",
   "language": "python",
   "name": "python3"
  },
  "language_info": {
   "codemirror_mode": {
    "name": "ipython",
    "version": 3
   },
   "file_extension": ".py",
   "mimetype": "text/x-python",
   "name": "python",
   "nbconvert_exporter": "python",
   "pygments_lexer": "ipython3",
   "version": "3.7.0"
  }
 },
 "nbformat": 4,
 "nbformat_minor": 2
}
