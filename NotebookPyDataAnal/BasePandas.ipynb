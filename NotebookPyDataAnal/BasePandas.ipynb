{
 "cells": [
  {
   "cell_type": "code",
   "execution_count": 1,
   "metadata": {},
   "outputs": [],
   "source": [
    "import numpy as np\n",
    "import matplotlib.pyplot as plt\n",
    "import pandas as pd\n",
    "from pandas import Series, DataFrame\n",
    "from numpy import nan as NA"
   ]
  },
  {
   "cell_type": "markdown",
   "metadata": {},
   "source": [
    "### Series \n",
    "``Одновимірний масив даних будь-якого типу і асоційований з ним масив міток (*індексів*)`` \n",
    "* якщо індекс не задано, то це range(N)\n",
    "* звичайний словник можна передати в Серію\n",
    "* в Серії є парамметр імені"
   ]
  },
  {
   "cell_type": "code",
   "execution_count": 2,
   "metadata": {},
   "outputs": [
    {
     "name": "stdout",
     "output_type": "stream",
     "text": [
      "4\n",
      "Index(['a', 'b', 'c'], dtype='object')\n",
      "b    5\n",
      "c    6\n",
      "Name: Test, dtype: int64\n"
     ]
    }
   ],
   "source": [
    "obj1 = Series([4,7,5,6,-1])\n",
    "print(obj1[0])\n",
    "obj2 = Series([4,5,6], index = ['a','b','c'])\n",
    "obj2.name = \"Test\"\n",
    "print(obj2.index)\n",
    "print(obj2[obj2 >4])\n"
   ]
  },
  {
   "cell_type": "markdown",
   "metadata": {},
   "source": [
    "### DataFrame\n",
    "``Це таблична структура даних подібну до SQL-таблиці``\n",
    "Можна вважати, що це словник Серій\n",
    "* В конструктор можна передати словник списків(з однаковою довжиною) або narray з NumPy\n",
    "* в конструкторі можна задати строгий порядок стовпчиків\n",
    "* Кожен стовпчик можна повернути як Серію\n",
    "* якщо передати в конструктор словник словників, то внутрішні ключі будуть індексами \n"
   ]
  },
  {
   "cell_type": "code",
   "execution_count": 3,
   "metadata": {},
   "outputs": [
    {
     "data": {
      "text/html": [
       "<div>\n",
       "<style scoped>\n",
       "    .dataframe tbody tr th:only-of-type {\n",
       "        vertical-align: middle;\n",
       "    }\n",
       "\n",
       "    .dataframe tbody tr th {\n",
       "        vertical-align: top;\n",
       "    }\n",
       "\n",
       "    .dataframe thead th {\n",
       "        text-align: right;\n",
       "    }\n",
       "</style>\n",
       "<table border=\"1\" class=\"dataframe\">\n",
       "  <thead>\n",
       "    <tr style=\"text-align: right;\">\n",
       "      <th></th>\n",
       "      <th>Nevada</th>\n",
       "      <th>Ohio</th>\n",
       "    </tr>\n",
       "  </thead>\n",
       "  <tbody>\n",
       "    <tr>\n",
       "      <th>1</th>\n",
       "      <td>2.4</td>\n",
       "      <td>NaN</td>\n",
       "    </tr>\n",
       "    <tr>\n",
       "      <th>2</th>\n",
       "      <td>3.0</td>\n",
       "      <td>2.4</td>\n",
       "    </tr>\n",
       "    <tr>\n",
       "      <th>4</th>\n",
       "      <td>NaN</td>\n",
       "      <td>4.0</td>\n",
       "    </tr>\n",
       "  </tbody>\n",
       "</table>\n",
       "</div>"
      ],
      "text/plain": [
       "   Nevada  Ohio\n",
       "1     2.4   NaN\n",
       "2     3.0   2.4\n",
       "4     NaN   4.0"
      ]
     },
     "execution_count": 3,
     "metadata": {},
     "output_type": "execute_result"
    }
   ],
   "source": [
    "frame = DataFrame({'Nevada':{1:2.4, 2:3},\n",
    "                   'Ohio': {2:2.4, 4:4},\n",
    "                  })\n",
    "frame"
   ]
  },
  {
   "cell_type": "markdown",
   "metadata": {},
   "source": [
    "### Index \n",
    "``Об'єкт для представлення індексів у DataFrame i Series``\n",
    "Може бути представленим, як: \n",
    "* Індекс цілих значень \n",
    "* Індекс як narray\n",
    "* Індекс для періодів і часу у мілісекундах\n",
    "* ієрврхічний індекс (має декілька рівнів індексування осі)\n",
    "* Значення не обов'язково унікальні \n",
    "\n",
    "**Переіндексація:**"
   ]
  },
  {
   "cell_type": "code",
   "execution_count": 4,
   "metadata": {},
   "outputs": [
    {
     "name": "stdout",
     "output_type": "stream",
     "text": [
      "a    4\n",
      "b    5\n",
      "c    6\n",
      "Name: Test, dtype: int64\n",
      "a    4.0\n",
      "b    5.0\n",
      "c    6.0\n",
      "d    NaN\n",
      "Name: Test, dtype: float64\n",
      "a    4\n",
      "b    5\n",
      "c    6\n",
      "d    0\n",
      "Name: Test, dtype: int64\n"
     ]
    },
    {
     "data": {
      "text/plain": [
       "0    4\n",
       "1    7\n",
       "2    5\n",
       "3    6\n",
       "4   -1\n",
       "dtype: int64"
      ]
     },
     "execution_count": 4,
     "metadata": {},
     "output_type": "execute_result"
    }
   ],
   "source": [
    "print(obj2)\n",
    "obj3 = obj2.reindex(['a','b','c','d'])\n",
    "print(obj3)\n",
    "obj4 = obj2.reindex(['a','b','c','d'],fill_value=0)\n",
    "print(obj4)\n",
    "obj1.reindex(range(15), method='ffill')\n",
    "obj1"
   ]
  },
  {
   "cell_type": "code",
   "execution_count": 43,
   "metadata": {},
   "outputs": [
    {
     "name": "stdout",
     "output_type": "stream",
     "text": [
      "   one  two  three  four\n",
      "1    0    1      2     3\n",
      "2    4    5      6     7\n",
      "3    8    9     10    11\n",
      "4   12   13     14    15\n",
      "   one  two  three  four\n",
      "2    4    5      6     7\n",
      "3    8    9     10    11\n",
      "4   12   13     14    15\n",
      "   one  two  three  four\n",
      "1    0    1      2     3\n",
      "3    8    9     10    11\n",
      "   one  two  three  four\n",
      "2    4    5      6     7\n",
      "3    8    9     10    11\n",
      "4   12   13     14    15\n",
      "1     1\n",
      "2     5\n",
      "3     9\n",
      "4    13\n",
      "Name: two, dtype: int32\n",
      "     one    two  three   four\n",
      "1  False  False  False  False\n",
      "2  False  False   True   True\n",
      "3   True   True   True   True\n",
      "4   True   True   True   True\n"
     ]
    }
   ],
   "source": [
    "#! Видалення елементів з осі і доступ по інлексу\n",
    "data = DataFrame(np.arange(16).reshape((4,4))\n",
    "                 ,index = ['1','2','3', '4']\n",
    "                 , columns= ['one', 'two', 'three', 'four'])\n",
    "print(data)\n",
    "print(data.drop('1'))\n",
    "print (data.drop(['2', '4']))\n",
    "print(data['2':'4'])\n",
    "print(data['two'])\n",
    "print(data > 5)\n"
   ]
  },
  {
   "cell_type": "code",
   "execution_count": 51,
   "metadata": {},
   "outputs": [
    {
     "data": {
      "text/html": [
       "<div>\n",
       "<style scoped>\n",
       "    .dataframe tbody tr th:only-of-type {\n",
       "        vertical-align: middle;\n",
       "    }\n",
       "\n",
       "    .dataframe tbody tr th {\n",
       "        vertical-align: top;\n",
       "    }\n",
       "\n",
       "    .dataframe thead th {\n",
       "        text-align: right;\n",
       "    }\n",
       "</style>\n",
       "<table border=\"1\" class=\"dataframe\">\n",
       "  <thead>\n",
       "    <tr style=\"text-align: right;\">\n",
       "      <th></th>\n",
       "      <th>five</th>\n",
       "      <th>four</th>\n",
       "      <th>one</th>\n",
       "      <th>three</th>\n",
       "      <th>two</th>\n",
       "    </tr>\n",
       "  </thead>\n",
       "  <tbody>\n",
       "    <tr>\n",
       "      <th>1</th>\n",
       "      <td>2.0</td>\n",
       "      <td>6</td>\n",
       "      <td>1</td>\n",
       "      <td>2.0</td>\n",
       "      <td>1</td>\n",
       "    </tr>\n",
       "    <tr>\n",
       "      <th>2</th>\n",
       "      <td>6.0</td>\n",
       "      <td>14</td>\n",
       "      <td>9</td>\n",
       "      <td>6.0</td>\n",
       "      <td>9</td>\n",
       "    </tr>\n",
       "    <tr>\n",
       "      <th>3</th>\n",
       "      <td>10.0</td>\n",
       "      <td>22</td>\n",
       "      <td>17</td>\n",
       "      <td>10.0</td>\n",
       "      <td>17</td>\n",
       "    </tr>\n",
       "    <tr>\n",
       "      <th>4</th>\n",
       "      <td>14.0</td>\n",
       "      <td>30</td>\n",
       "      <td>25</td>\n",
       "      <td>14.0</td>\n",
       "      <td>25</td>\n",
       "    </tr>\n",
       "  </tbody>\n",
       "</table>\n",
       "</div>"
      ],
      "text/plain": [
       "   five  four  one  three  two\n",
       "1   2.0     6    1    2.0    1\n",
       "2   6.0    14    9    6.0    9\n",
       "3  10.0    22   17   10.0   17\n",
       "4  14.0    30   25   14.0   25"
      ]
     },
     "execution_count": 51,
     "metadata": {},
     "output_type": "execute_result"
    }
   ],
   "source": [
    "#! арифметичні операції на прикладі додавання  \n",
    "df1 = DataFrame(np.arange(16).reshape((4,4))\n",
    "                 ,index = ['1','2','3', '4']\n",
    "                 , columns= ['one', 'two', 'three', 'four'])\n",
    "df2 = data = DataFrame(np.arange(16).reshape((4,4))\n",
    "                 ,index = ['1','2','3', '4']\n",
    "                 , columns= [ 'two','one', 'five', 'four'])\n",
    "df1.add(df2, fill_value = 0)\n"
   ]
  },
  {
   "cell_type": "code",
   "execution_count": 67,
   "metadata": {},
   "outputs": [
    {
     "data": {
      "text/html": [
       "<div>\n",
       "<style scoped>\n",
       "    .dataframe tbody tr th:only-of-type {\n",
       "        vertical-align: middle;\n",
       "    }\n",
       "\n",
       "    .dataframe tbody tr th {\n",
       "        vertical-align: top;\n",
       "    }\n",
       "\n",
       "    .dataframe thead th {\n",
       "        text-align: right;\n",
       "    }\n",
       "</style>\n",
       "<table border=\"1\" class=\"dataframe\">\n",
       "  <thead>\n",
       "    <tr style=\"text-align: right;\">\n",
       "      <th></th>\n",
       "      <th>0</th>\n",
       "      <th>1</th>\n",
       "      <th>2</th>\n",
       "      <th>3</th>\n",
       "    </tr>\n",
       "  </thead>\n",
       "  <tbody>\n",
       "    <tr>\n",
       "      <th>0</th>\n",
       "      <td>0</td>\n",
       "      <td>0</td>\n",
       "      <td>0</td>\n",
       "      <td>0</td>\n",
       "    </tr>\n",
       "    <tr>\n",
       "      <th>1</th>\n",
       "      <td>4</td>\n",
       "      <td>4</td>\n",
       "      <td>4</td>\n",
       "      <td>4</td>\n",
       "    </tr>\n",
       "    <tr>\n",
       "      <th>2</th>\n",
       "      <td>8</td>\n",
       "      <td>8</td>\n",
       "      <td>8</td>\n",
       "      <td>8</td>\n",
       "    </tr>\n",
       "  </tbody>\n",
       "</table>\n",
       "</div>"
      ],
      "text/plain": [
       "   0  1  2  3\n",
       "0  0  0  0  0\n",
       "1  4  4  4  4\n",
       "2  8  8  8  8"
      ]
     },
     "execution_count": 67,
     "metadata": {},
     "output_type": "execute_result"
    }
   ],
   "source": [
    "#! Операції між Dataframe i Series \n",
    "arr = np.arange(12).reshape((3,4))\n",
    "frame = DataFrame(arr)\n",
    "s = frame.loc[0]\n",
    "frame-s\n"
   ]
  },
  {
   "cell_type": "code",
   "execution_count": 105,
   "metadata": {},
   "outputs": [
    {
     "name": "stdout",
     "output_type": "stream",
     "text": [
      "   one  two  three  four\n",
      "1    0    1      2     3\n",
      "2    4    5      6     7\n",
      "3    8    9     10    11\n",
      "4   12   13     14    15\n",
      "   one  two  three  four\n",
      "1  1.0  1.0    1.0   1.0\n",
      "2  2.0  2.0    2.0   2.0\n",
      "3  3.0  3.0    3.0   3.0\n",
      "4  4.0  4.0    4.0   4.0\n"
     ]
    }
   ],
   "source": [
    "# Сортування \n",
    "print (df1.sort_index())\n",
    "# Ранжування кожому елементу присвоюються ранги від 1 до N\n",
    "print(df1.rank())"
   ]
  },
  {
   "cell_type": "markdown",
   "metadata": {},
   "source": [
    "## Редукція і обчислення опусуючих статистик \n",
    "Реlукції - це методи які вираховують єдине значення (меншого порядку, тобто для серій це число, а для фреймів це серія або число) \n",
    "* квантилі \n",
    "* вибіркова дисперсія \n",
    "\n",
    "...\n",
    "* коваріація \n",
    "* кореляція"
   ]
  },
  {
   "cell_type": "markdown",
   "metadata": {},
   "source": [
    "### Обробка відсутніх даних \n",
    "якщо дані відсутні то в pandas цим значенням присвоюється NaN\n",
    "\n",
    "**МЕТОДИ ОБРОБКИ ВІДСУТНІХ ДАНИХ** \n",
    "\n",
    "* dropna - фільтрує вісь на наявність NaN \n",
    "* fillna - заміна відсутніх даних на якесь значення(можна передати значення які задежать від стовпчикач)\n",
    "* isnull - повертається об'єкт булевих знач де вказується які дані відсутні \n",
    "* notnull - лог заперечення попереднього "
   ]
  },
  {
   "cell_type": "code",
   "execution_count": 109,
   "metadata": {},
   "outputs": [
    {
     "name": "stdout",
     "output_type": "stream",
     "text": [
      "0    False\n",
      "1    False\n",
      "2     True\n",
      "3    False\n",
      "dtype: bool\n"
     ]
    },
    {
     "data": {
      "text/plain": [
       "0    1\n",
       "1    2\n",
       "3    4\n",
       "dtype: object"
      ]
     },
     "execution_count": 109,
     "metadata": {},
     "output_type": "execute_result"
    }
   ],
   "source": [
    "data = Series(['1','2',np.nan,'4'])\n",
    "print(data.isnull())\n",
    "data.dropna()\n"
   ]
  },
  {
   "cell_type": "markdown",
   "metadata": {},
   "source": [
    "   ### Ієрархічне індексування \n",
    "   Це спосіб працювати з багатомірними даними, які представлено в формі з меншою розмірністю\n",
    "   * swaplelel()\n",
    "   * sortlevel()"
   ]
  },
  {
   "cell_type": "code",
   "execution_count": 113,
   "metadata": {},
   "outputs": [
    {
     "data": {
      "text/html": [
       "<div>\n",
       "<style scoped>\n",
       "    .dataframe tbody tr th:only-of-type {\n",
       "        vertical-align: middle;\n",
       "    }\n",
       "\n",
       "    .dataframe tbody tr th {\n",
       "        vertical-align: top;\n",
       "    }\n",
       "\n",
       "    .dataframe thead th {\n",
       "        text-align: right;\n",
       "    }\n",
       "</style>\n",
       "<table border=\"1\" class=\"dataframe\">\n",
       "  <thead>\n",
       "    <tr style=\"text-align: right;\">\n",
       "      <th></th>\n",
       "      <th>1</th>\n",
       "      <th>2</th>\n",
       "      <th>3</th>\n",
       "    </tr>\n",
       "  </thead>\n",
       "  <tbody>\n",
       "    <tr>\n",
       "      <th>a</th>\n",
       "      <td>0.548309</td>\n",
       "      <td>1.170712</td>\n",
       "      <td>0.093308</td>\n",
       "    </tr>\n",
       "    <tr>\n",
       "      <th>b</th>\n",
       "      <td>-1.017386</td>\n",
       "      <td>0.165879</td>\n",
       "      <td>0.476831</td>\n",
       "    </tr>\n",
       "  </tbody>\n",
       "</table>\n",
       "</div>"
      ],
      "text/plain": [
       "          1         2         3\n",
       "a  0.548309  1.170712  0.093308\n",
       "b -1.017386  0.165879  0.476831"
      ]
     },
     "execution_count": 113,
     "metadata": {},
     "output_type": "execute_result"
    }
   ],
   "source": [
    "data = Series(np.random.randn(6), index=[['a','a','a','b','b','b'],[1,2,3,1,2,3]])\n",
    "data.unstack().stack().unstack()# перетворює в DataFrame "
   ]
  },
  {
   "cell_type": "markdown",
   "metadata": {},
   "source": [
    "### Panel - трьохмірний аналог DataFrame\n"
   ]
  }
 ],
 "metadata": {
  "kernelspec": {
   "display_name": "Python 3",
   "language": "python",
   "name": "python3"
  },
  "language_info": {
   "codemirror_mode": {
    "name": "ipython",
    "version": 3
   },
   "file_extension": ".py",
   "mimetype": "text/x-python",
   "name": "python",
   "nbconvert_exporter": "python",
   "pygments_lexer": "ipython3",
   "version": "3.6.7"
  }
 },
 "nbformat": 4,
 "nbformat_minor": 2
}
