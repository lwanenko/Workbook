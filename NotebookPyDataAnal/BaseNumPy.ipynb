{
 "cells": [
  {
   "cell_type": "code",
   "execution_count": 1,
   "metadata": {},
   "outputs": [
    {
     "ename": "ModuleNotFoundError",
     "evalue": "No module named 'matplotlib'",
     "output_type": "error",
     "traceback": [
      "\u001b[1;31m---------------------------------------------------------------------------\u001b[0m",
      "\u001b[1;31mModuleNotFoundError\u001b[0m                       Traceback (most recent call last)",
      "\u001b[1;32m<ipython-input-1-e0e1492b7973>\u001b[0m in \u001b[0;36m<module>\u001b[1;34m\u001b[0m\n\u001b[0;32m      1\u001b[0m \u001b[1;32mimport\u001b[0m \u001b[0mnumpy\u001b[0m \u001b[1;32mas\u001b[0m \u001b[0mnp\u001b[0m\u001b[1;33m\u001b[0m\u001b[1;33m\u001b[0m\u001b[0m\n\u001b[1;32m----> 2\u001b[1;33m \u001b[1;32mimport\u001b[0m \u001b[0mmatplotlib\u001b[0m\u001b[1;33m.\u001b[0m\u001b[0mpyplot\u001b[0m \u001b[1;32mas\u001b[0m \u001b[0mplt\u001b[0m\u001b[1;33m\u001b[0m\u001b[1;33m\u001b[0m\u001b[0m\n\u001b[0m",
      "\u001b[1;31mModuleNotFoundError\u001b[0m: No module named 'matplotlib'"
     ]
    }
   ],
   "source": [
    "import numpy as np\n",
    "import matplotlib.pyplot as plt"
   ]
  },
  {
   "cell_type": "markdown",
   "metadata": {},
   "source": [
    "## NumPy\n",
    "Тут розписані основні властивості даної бібліотеки\n",
    "\n",
    "Навіщо:\n",
    "* швидкі векторні операції для різного роду обчислень\n",
    "* стандартні алгоритми роботи з масивами \n",
    "* агрегація і узагальнення даних \n",
    "* групування операцій з даними "
   ]
  },
  {
   "cell_type": "markdown",
   "metadata": {},
   "source": [
    "### ndarray об'єкт N-мірного масива \n",
    "* індексація з 0\n",
    "* підмножині(зрізу) можна присвоїти однакові значення\n",
    "* зріз це посилання на частину оригінальної матриці\n",
    "* вісь oY іде першою при нумерації\n",
    "\n",
    "**ВАЖЛИВО**\n",
    "\n",
    "ndarray застосовується лише для однорідних даних\n",
    "і для того щоб прцбвати з різними типами необхідно зробити приведення за допомогою\n",
    "``np.astype`` яка по факту створює нову матрицю"
   ]
  },
  {
   "cell_type": "code",
   "execution_count": 2,
   "metadata": {},
   "outputs": [
    {
     "name": "stdout",
     "output_type": "stream",
     "text": [
      "[[2 4 8]\n",
      " [2 4 8]]\n",
      "кількість рядків матриці: \n",
      "2\n",
      "розмірність матриці: \n",
      "(2, 3)\n",
      "тип даних матриці: \n",
      "int32\n"
     ]
    }
   ],
   "source": [
    "#Створення матриці\n",
    "data = [[1, 2, 4], [1, 2, 4]]\n",
    "array = np.array(data)\n",
    "\n",
    "print(array+array)\n",
    "\n",
    "print(\"кількість рядків матриці: \")\n",
    "print(array.ndim)\n",
    "\n",
    "print(\"розмірність матриці: \")\n",
    "print(array.shape)\n",
    "\n",
    "print(\"тип даних матриці: \")\n",
    "print(array.dtype)"
   ]
  },
  {
   "cell_type": "code",
   "execution_count": 3,
   "metadata": {},
   "outputs": [
    {
     "data": {
      "text/plain": [
       "array([ 0,  1,  2,  3,  4,  5,  6,  7,  8,  9, 10, 11, 12, 13, 14])"
      ]
     },
     "execution_count": 3,
     "metadata": {},
     "output_type": "execute_result"
    }
   ],
   "source": [
    "np.arange(15)#аналогія з функцією range()"
   ]
  },
  {
   "cell_type": "code",
   "execution_count": 4,
   "metadata": {},
   "outputs": [
    {
     "name": "stdout",
     "output_type": "stream",
     "text": [
      "матриця з одининцями:\n",
      "[[1. 1. 1. 1.]\n",
      " [1. 1. 1. 1.]]\n",
      "матриця з нулями:\n",
      "[[0. 0. 0. 0.]\n",
      " [0. 0. 0. 0.]]\n",
      "одинична матриця:\n",
      "[[1. 0. 0.]\n",
      " [0. 1. 0.]\n",
      " [0. 0. 1.]]\n"
     ]
    }
   ],
   "source": [
    "print(\"матриця з одининцями:\")\n",
    "print(np.ones((2,4)))\n",
    "print(\"матриця з нулями:\")\n",
    "print(np.zeros((2,4)))\n",
    "print(\"одинична матриця:\")\n",
    "print(np.identity(3))"
   ]
  },
  {
   "cell_type": "markdown",
   "metadata": {},
   "source": [
    "### **Зрізи**\n",
    "Крім звичайних зрізів і операцій з ними,тут можна застосовувати різного роду булеві умови при створенні зріза\n",
    "Також можна логічно поєднувати 2 матриці по якійсь осі і накладаючи умову на одну змінювати іншу\n",
    "\n",
    "**!!!**\n",
    "and i or тут не працюють"
   ]
  },
  {
   "cell_type": "code",
   "execution_count": 5,
   "metadata": {
    "scrolled": true
   },
   "outputs": [
    {
     "name": "stdout",
     "output_type": "stream",
     "text": [
      "[[[-1  2]\n",
      "  [ 1  2]]]\n"
     ]
    }
   ],
   "source": [
    "arr3d = np.array([[[-1,2],[1,2]],[[-1,2],[-1,2]]])\n",
    "print(arr3d[:1])"
   ]
  },
  {
   "cell_type": "code",
   "execution_count": 6,
   "metadata": {},
   "outputs": [
    {
     "data": {
      "text/plain": [
       "array([[[-1,  2],\n",
       "        [ 1,  2]],\n",
       "\n",
       "       [[12, 12],\n",
       "        [12, 12]]])"
      ]
     },
     "execution_count": 6,
     "metadata": {},
     "output_type": "execute_result"
    }
   ],
   "source": [
    "arr3d[1]=12\n",
    "arr3d"
   ]
  },
  {
   "cell_type": "code",
   "execution_count": 7,
   "metadata": {},
   "outputs": [
    {
     "data": {
      "text/plain": [
       "-1"
      ]
     },
     "execution_count": 7,
     "metadata": {},
     "output_type": "execute_result"
    }
   ],
   "source": [
    "arr3d[0,0,0]"
   ]
  },
  {
   "cell_type": "code",
   "execution_count": 8,
   "metadata": {},
   "outputs": [
    {
     "data": {
      "text/plain": [
       "array([[[-1,  0],\n",
       "        [ 0,  0]],\n",
       "\n",
       "       [[ 0,  0],\n",
       "        [ 0,  0]]])"
      ]
     },
     "execution_count": 8,
     "metadata": {},
     "output_type": "execute_result"
    }
   ],
   "source": [
    "arr3d[arr3d > 0] = 0\n",
    "arr3d"
   ]
  },
  {
   "cell_type": "markdown",
   "metadata": {},
   "source": [
    "**Прихотливе індексування(fancy indexing)**\n",
    "\n",
    "Це індексування за допомогою цілочисельного масива, кожне значення якого є номером рядка, і відображаються вони в зазначеному порядку, зручно для перестановок рядків в матрицці.\n",
    "    \n",
    "    Якщо вказати від'ємні індекси то рядки просто рахуються з кінця"
   ]
  },
  {
   "cell_type": "code",
   "execution_count": 9,
   "metadata": {},
   "outputs": [
    {
     "data": {
      "text/plain": [
       "array([[4., 4., 4., 4.],\n",
       "       [3., 3., 3., 3.],\n",
       "       [7., 7., 7., 7.]])"
      ]
     },
     "execution_count": 9,
     "metadata": {},
     "output_type": "execute_result"
    }
   ],
   "source": [
    "arr = np.empty((8,4))\n",
    "for i in range(8):\n",
    "    arr[i]= i\n",
    "arr[[4,3,-1]]"
   ]
  },
  {
   "cell_type": "code",
   "execution_count": 10,
   "metadata": {},
   "outputs": [
    {
     "data": {
      "text/plain": [
       "array([4, 8])"
      ]
     },
     "execution_count": 10,
     "metadata": {},
     "output_type": "execute_result"
    }
   ],
   "source": [
    "arr = np.arange(32).reshape((8,4))\n",
    "arr[[1,2],[0,0]]#тут формуються пари по кординатах(1,0) і (2,0)"
   ]
  },
  {
   "cell_type": "markdown",
   "metadata": {},
   "source": [
    "**Транспонування**\n",
    "* arr.T -звичайне \n",
    "* arr.transpose([коотеж номерів осей, який описує перестановку])"
   ]
  },
  {
   "cell_type": "code",
   "execution_count": 11,
   "metadata": {},
   "outputs": [
    {
     "data": {
      "text/plain": [
       "array([[ 0,  4,  8, 12, 16, 20, 24, 28],\n",
       "       [ 1,  5,  9, 13, 17, 21, 25, 29],\n",
       "       [ 2,  6, 10, 14, 18, 22, 26, 30],\n",
       "       [ 3,  7, 11, 15, 19, 23, 27, 31]])"
      ]
     },
     "execution_count": 11,
     "metadata": {},
     "output_type": "execute_result"
    }
   ],
   "source": [
    "arr.T"
   ]
  },
  {
   "cell_type": "markdown",
   "metadata": {},
   "source": [
    "### Універсальні функції \n",
    "це функції які виконують поелементні операції над даними  \n"
   ]
  },
  {
   "cell_type": "code",
   "execution_count": 12,
   "metadata": {},
   "outputs": [
    {
     "name": "stdout",
     "output_type": "stream",
     "text": [
      "[0 1 2]\n",
      "[0.         1.         1.41421356]\n",
      "[1.         2.71828183 7.3890561 ]\n"
     ]
    }
   ],
   "source": [
    "arr = np.arange(3)\n",
    "print(arr)\n",
    "#унарні\n",
    "print(np.sqrt(arr))\n",
    "print(np.exp(arr))"
   ]
  },
  {
   "cell_type": "code",
   "execution_count": 13,
   "metadata": {},
   "outputs": [
    {
     "name": "stdout",
     "output_type": "stream",
     "text": [
      "[ 0.83942048 -0.58927778  0.12384343  0.81057368]\n",
      "[ 0.56777953  0.23361475 -1.36903984 -0.38113129]\n",
      "[0.83942048 0.23361475 0.12384343 0.81057368]\n",
      "[ 1.40720002 -0.35566303 -1.24519641  0.42944239]\n"
     ]
    }
   ],
   "source": [
    "x = np.random.randn(4)\n",
    "print(x)\n",
    "y = np.random.randn(4)\n",
    "print(y)\n",
    "#бінарні\n",
    "print(np.maximum(x,y))\n",
    "print(np.add(x,y))\n",
    "#..."
   ]
  },
  {
   "cell_type": "markdown",
   "metadata": {},
   "source": [
    "### Векторизація\n",
    "спосіб обробки даних через команди NumPy, без застосування циклів чистого python\n",
    "тому більшість операцій математичних статичних і логічних записуються за допомогою стандартних функцій np\n"
   ]
  },
  {
   "cell_type": "code",
   "execution_count": 31,
   "metadata": {},
   "outputs": [
    {
     "name": "stdout",
     "output_type": "stream",
     "text": [
      "[[-4.   -3.99 -3.98 ...  3.97  3.98  3.99]\n",
      " [-4.   -3.99 -3.98 ...  3.97  3.98  3.99]\n",
      " [-4.   -3.99 -3.98 ...  3.97  3.98  3.99]\n",
      " ...\n",
      " [-4.   -3.99 -3.98 ...  3.97  3.98  3.99]\n",
      " [-4.   -3.99 -3.98 ...  3.97  3.98  3.99]\n",
      " [-4.   -3.99 -3.98 ...  3.97  3.98  3.99]]\n",
      "[[5.65685425 5.64978761 5.64272984 ... 5.63568097 5.64272984 5.64978761]\n",
      " [5.64978761 5.64271211 5.63564548 ... 5.62858774 5.63564548 5.64271211]\n",
      " [5.64272984 5.63564548 5.62856998 ... 5.62150336 5.62856998 5.63564548]\n",
      " ...\n",
      " [5.63568097 5.62858774 5.62150336 ... 5.61442784 5.62150336 5.62858774]\n",
      " [5.64272984 5.63564548 5.62856998 ... 5.62150336 5.62856998 5.63564548]\n",
      " [5.64978761 5.64271211 5.63564548 ... 5.62858774 5.63564548 5.64271211]]\n"
     ]
    },
    {
     "data": {
      "text/plain": [
       "Text(0.5,1,'Image plot of $\\\\sqrt{x^2+y^2}$ for a grid of values')"
      ]
     },
     "execution_count": 31,
     "metadata": {},
     "output_type": "execute_result"
    },
    {
     "data": {
      "image/png": "[encoded data removed]",
      "text/plain": [
       "<Figure size 432x288 with 2 Axes>"
      ]
     },
     "metadata": {
      "needs_background": "light"
     },
     "output_type": "display_data"
    }
   ],
   "source": [
    "points = np.arange(-4,4, 0.01)\n",
    "\n",
    "xs,ys = np.meshgrid(points,points)#з двох одномірних масивів робить \n",
    "z = np.sqrt(xs ** 2 + ys ** 2)\n",
    "print(xs)\n",
    "print(z)\n",
    "plt.imshow(z,cmap=plt.cm.gray);plt.colorbar()\n",
    "plt.title(\"Image plot of $\\sqrt{x^2+y^2}$ for a grid of values\")"
   ]
  },
  {
   "cell_type": "code",
   "execution_count": 15,
   "metadata": {},
   "outputs": [
    {
     "name": "stdout",
     "output_type": "stream",
     "text": [
      "[1 3 3 1]\n"
     ]
    }
   ],
   "source": [
    "#Задача:беремо значення з x\n",
    "#       якщо відповідне значення flags True \n",
    "#       іначе беремо з y \n",
    "x = np.array([1,2,3,4])\n",
    "y = np.array([4,3,2,1])\n",
    "flags = np.array([True,False,True,False])\n",
    "result = np.where(flags,x,y)\n",
    "print(result)"
   ]
  },
  {
   "cell_type": "code",
   "execution_count": 16,
   "metadata": {},
   "outputs": [
    {
     "data": {
      "text/plain": [
       "array([1, 2, 2, 2])"
      ]
     },
     "execution_count": 16,
     "metadata": {},
     "output_type": "execute_result"
    }
   ],
   "source": [
    "#Задача: значення більші 2 замінити на 2 \n",
    "np.where(x > 2, 2, x)#в кінці х, бо то дія коли else"
   ]
  },
  {
   "cell_type": "markdown",
   "metadata": {},
   "source": [
    "### Математичні і статичні операції\n"
   ]
  },
  {
   "cell_type": "code",
   "execution_count": 17,
   "metadata": {},
   "outputs": [
    {
     "name": "stdout",
     "output_type": "stream",
     "text": [
      "[[ 0.73856786 -0.54898122]\n",
      " [-0.05413983  0.5897309 ]]\n",
      "[0.34221401 0.02037484]\n",
      "[0.68442802 0.04074967]\n",
      "0.5162620093001689\n",
      "0.26652646224664767\n"
     ]
    }
   ],
   "source": [
    "arr = np.random.randn(2,2)\n",
    "print(arr)\n",
    "print(arr.mean(axis = 0))#середнє арифметичне по осі 0\n",
    "print(arr.sum(axis = 0))#сума елементів відносно осі 0\n",
    "print(arr.std())# стандартне відхилення\n",
    "print(arr.var())# дисперсія"
   ]
  },
  {
   "cell_type": "markdown",
   "metadata": {},
   "source": [
    "### Сортування"
   ]
  },
  {
   "cell_type": "code",
   "execution_count": 18,
   "metadata": {},
   "outputs": [
    {
     "data": {
      "text/plain": [
       "array([-1.89871529, -0.0582539 ,  0.96821153,  1.26966815,  1.28729865,\n",
       "        1.45160381,  1.56469665,  1.92545627])"
      ]
     },
     "execution_count": 18,
     "metadata": {},
     "output_type": "execute_result"
    }
   ],
   "source": [
    "arr = np.random.randn(8)\n",
    "np.sort(arr)\n"
   ]
  },
  {
   "cell_type": "markdown",
   "metadata": {},
   "source": [
    "### Операції з множинами \n",
    "* ``np.unique(names)`` - повертає унікальні значення одномірної матриці\n",
    "* ``np.in1d(arr1, arr2)`` - перевіряє чи присутні елементи однієї множини в іншій і повертає булеву матрицю з результатами\n",
    "і ще декілька \n"
   ]
  },
  {
   "cell_type": "markdown",
   "metadata": {},
   "source": [
    "### Робота з файлами\n",
    "Можна працювати з тхт і таблицями \n",
    "А можна ось так:"
   ]
  },
  {
   "cell_type": "code",
   "execution_count": 19,
   "metadata": {},
   "outputs": [],
   "source": [
    "arr = np.arange(10)\n",
    "np.save('array',arr)"
   ]
  },
  {
   "cell_type": "code",
   "execution_count": 20,
   "metadata": {},
   "outputs": [
    {
     "data": {
      "text/plain": [
       "array([0, 1, 2, 3, 4, 5, 6, 7, 8, 9])"
      ]
     },
     "execution_count": 20,
     "metadata": {},
     "output_type": "execute_result"
    }
   ],
   "source": [
    "np.load('array.npy')"
   ]
  },
  {
   "cell_type": "markdown",
   "metadata": {},
   "source": [
    "## Лінійна Алгебра\n",
    "* визначник\n",
    "* множення\n",
    "* сумадіагональних елементів\n",
    "* Власні значення\n",
    "* обернена матриця\n",
    "* QR - розклад\n",
    "* SVD - розклад\n",
    "* вирішує Ax = b\n",
    "* вирішує рівняння y = Xb(МНК)\n",
    "* повертає діагональ як вектор\n",
    "* псевдообернена матриця Мура-Пенроуз для квадратної матриці\n"
   ]
  },
  {
   "cell_type": "code",
   "execution_count": 21,
   "metadata": {},
   "outputs": [
    {
     "data": {
      "text/plain": [
       "array([[ 0.260161  , -2.82407922,  1.40183653],\n",
       "       [-1.54605984, -1.67439459, -1.47050499],\n",
       "       [-0.8104243 , -0.6787254 , -1.01146496]])"
      ]
     },
     "execution_count": 21,
     "metadata": {},
     "output_type": "execute_result"
    }
   ],
   "source": [
    "x = np.random.randn(3,3)\n",
    "y = np.random.randn(3,3)\n",
    "np.dot(x,y)#перемножує дві матриці"
   ]
  }
 ],
 "metadata": {
  "kernelspec": {
   "display_name": "Python 3",
   "language": "python",
   "name": "python3"
  },
  "language_info": {
   "codemirror_mode": {
    "name": "ipython",
    "version": 3
   },
   "file_extension": ".py",
   "mimetype": "text/x-python",
   "name": "python",
   "nbconvert_exporter": "python",
   "pygments_lexer": "ipython3",
   "version": "3.6.7"
  }
 },
 "nbformat": 4,
 "nbformat_minor": 2
}
