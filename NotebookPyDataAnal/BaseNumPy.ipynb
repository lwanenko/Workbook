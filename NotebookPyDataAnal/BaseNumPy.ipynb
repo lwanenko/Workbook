{
 "cells": [
  {
   "cell_type": "code",
   "execution_count": 104,
   "metadata": {},
   "outputs": [],
   "source": [
    "import numpy as np\n",
    "import matplotlib.pyplot as plt"
   ]
  },
  {
   "cell_type": "markdown",
   "metadata": {},
   "source": [
    "## NumPy\n",
    "Тут розписані основні властивості даної бібліотеки\n",
    "\n",
    "Навіщо:\n",
    "* швидкі векторні операції для різного роду обчислень\n",
    "* стандартні алгоритми роботи з масивами \n",
    "* агрегація і узагальнення даних \n",
    "* групування операцій з даними "
   ]
  },
  {
   "cell_type": "markdown",
   "metadata": {},
   "source": [
    "### ndarray об'єкт N-мірного масива \n",
    "* індексація з 0\n",
    "* підмножині(зрізу) можна присвоїти однакові значення\n",
    "* зріз це посилання на частину оригінальної матриці\n",
    "* вісь oY іде першою при нумерації\n",
    "\n",
    "**ВАЖЛИВО**\n",
    "\n",
    "ndarray застосовується лише для однорідних даних\n",
    "і для того щоб прцбвати з різними типами необхідно зробити приведення за допомогою\n",
    "``np.astype`` яка по факту створює нову матрицю"
   ]
  },
  {
   "cell_type": "code",
   "execution_count": 23,
   "metadata": {
    "collapsed": true
   },
   "outputs": [
    {
     "name": "stdout",
     "output_type": "stream",
     "text": [
      "[[2 4 8]\n",
      " [2 4 8]]\n",
      "кількість рядків матриці: \n",
      "2\n",
      "розмірність матриці: \n",
      "(2, 3)\n",
      "тип даних матриці: \n",
      "int32\n"
     ]
    }
   ],
   "source": [
    "#Створення матриці\n",
    "data = [[1, 2, 4], [1, 2, 4]]\n",
    "array = np.array(data)\n",
    "\n",
    "print(array+array)\n",
    "\n",
    "print(\"кількість рядків матриці: \")\n",
    "print(array.ndim)\n",
    "\n",
    "print(\"розмірність матриці: \")\n",
    "print(array.shape)\n",
    "\n",
    "print(\"тип даних матриці: \")\n",
    "print(array.dtype)"
   ]
  },
  {
   "cell_type": "code",
   "execution_count": 24,
   "metadata": {
    "collapsed": true
   },
   "outputs": [
    {
     "data": {
      "text/plain": [
       "array([ 0,  1,  2,  3,  4,  5,  6,  7,  8,  9, 10, 11, 12, 13, 14])"
      ]
     },
     "execution_count": 24,
     "metadata": {},
     "output_type": "execute_result"
    }
   ],
   "source": [
    "np.arange(15)#аналогія з функцією range()"
   ]
  },
  {
   "cell_type": "code",
   "execution_count": 40,
   "metadata": {
    "collapsed": true
   },
   "outputs": [
    {
     "name": "stdout",
     "output_type": "stream",
     "text": [
      "матриця з одининцями:\n",
      "[[1. 1. 1. 1.]\n",
      " [1. 1. 1. 1.]]\n",
      "матриця з нулями:\n",
      "[[0. 0. 0. 0.]\n",
      " [0. 0. 0. 0.]]\n",
      "одинична матриця:\n",
      "[[1. 0. 0.]\n",
      " [0. 1. 0.]\n",
      " [0. 0. 1.]]\n"
     ]
    }
   ],
   "source": [
    "print(\"матриця з одининцями:\")\n",
    "print(np.ones((2,4)))\n",
    "print(\"матриця з нулями:\")\n",
    "print(np.zeros((2,4)))\n",
    "print(\"одинична матриця:\")\n",
    "print(np.identity(3))"
   ]
  },
  {
   "cell_type": "markdown",
   "metadata": {},
   "source": [
    "### **Зрізи**\n",
    "Крім звичайних зрізів і операцій з ними,тут можна застосовувати різного роду булеві умови при створенні зріза\n",
    "Також можна логічно поєднувати 2 матриці по якійсь осі і накладаючи умову на одну змінювати іншу\n",
    "\n",
    "**!!!**\n",
    "and i or тут не працюють"
   ]
  },
  {
   "cell_type": "code",
   "execution_count": 45,
   "metadata": {
    "scrolled": true
   },
   "outputs": [
    {
     "data": {
      "text/plain": [
       "array([[[1, 2],\n",
       "        [1, 2]]])"
      ]
     },
     "execution_count": 45,
     "metadata": {},
     "output_type": "execute_result"
    }
   ],
   "source": [
    "arr3d = np.array([[[-1,2],[1,2]],[[-1,2],[-1,2]]])\n",
    "print(arr3d[:1])"
   ]
  },
  {
   "cell_type": "code",
   "execution_count": 46,
   "metadata": {
    "collapsed": true
   },
   "outputs": [
    {
     "data": {
      "text/plain": [
       "array([[[ 1,  2],\n",
       "        [ 1,  2]],\n",
       "\n",
       "       [[12, 12],\n",
       "        [12, 12]]])"
      ]
     },
     "execution_count": 46,
     "metadata": {},
     "output_type": "execute_result"
    }
   ],
   "source": [
    "arr3d[1]=12\n",
    "arr3d"
   ]
  },
  {
   "cell_type": "code",
   "execution_count": 48,
   "metadata": {},
   "outputs": [
    {
     "data": {
      "text/plain": [
       "1"
      ]
     },
     "execution_count": 48,
     "metadata": {},
     "output_type": "execute_result"
    }
   ],
   "source": [
    "arr3d[0,0,0]"
   ]
  },
  {
   "cell_type": "code",
   "execution_count": 52,
   "metadata": {},
   "outputs": [
    {
     "data": {
      "text/plain": [
       "array([[[0, 0],\n",
       "        [0, 0]],\n",
       "\n",
       "       [[0, 0],\n",
       "        [0, 0]]])"
      ]
     },
     "execution_count": 52,
     "metadata": {},
     "output_type": "execute_result"
    }
   ],
   "source": [
    "arr3d[arr3d > 0] = 0\n",
    "arr3d"
   ]
  },
  {
   "cell_type": "markdown",
   "metadata": {},
   "source": [
    "**Прихотливе індексування(fancy indexing)**\n",
    "\n",
    "Це індексування за допомогою цілочисельного масива, кожне значення якого є номером рядка, і відображаються вони в зазначеному порядку, зручно для перестановок рядків в матрицці.\n",
    "    \n",
    "    Якщо вказати від'ємні індекси то рядки просто рахуються з кінця"
   ]
  },
  {
   "cell_type": "code",
   "execution_count": 56,
   "metadata": {
    "collapsed": true
   },
   "outputs": [
    {
     "data": {
      "text/plain": [
       "array([[4., 4., 4., 4.],\n",
       "       [3., 3., 3., 3.],\n",
       "       [7., 7., 7., 7.]])"
      ]
     },
     "execution_count": 56,
     "metadata": {},
     "output_type": "execute_result"
    }
   ],
   "source": [
    "arr = np.empty((8,4))\n",
    "for i in range(8):\n",
    "    arr[i]= i\n",
    "arr[[4,3,-1]]"
   ]
  },
  {
   "cell_type": "code",
   "execution_count": 63,
   "metadata": {},
   "outputs": [
    {
     "data": {
      "text/plain": [
       "array([4, 8])"
      ]
     },
     "execution_count": 63,
     "metadata": {},
     "output_type": "execute_result"
    }
   ],
   "source": [
    "arr = np.arange(32).reshape((8,4))\n",
    "arr[[1,2],[0,0]]#тут формуються пари по кординатах(1,0) і (2,0)"
   ]
  },
  {
   "cell_type": "markdown",
   "metadata": {},
   "source": [
    "**Транспонування**\n",
    "* arr.T -звичайне \n",
    "* arr.transpose([коотеж номерів осей, який описує перестановку])"
   ]
  },
  {
   "cell_type": "code",
   "execution_count": 62,
   "metadata": {},
   "outputs": [
    {
     "data": {
      "text/plain": [
       "array([[ 0,  4,  8, 12, 16, 20, 24, 28],\n",
       "       [ 1,  5,  9, 13, 17, 21, 25, 29],\n",
       "       [ 2,  6, 10, 14, 18, 22, 26, 30],\n",
       "       [ 3,  7, 11, 15, 19, 23, 27, 31]])"
      ]
     },
     "execution_count": 62,
     "metadata": {},
     "output_type": "execute_result"
    }
   ],
   "source": [
    "arr.T"
   ]
  },
  {
   "cell_type": "markdown",
   "metadata": {},
   "source": [
    "### Універсальні функції \n",
    "це функції які виконують поелементні операції над даними  \n"
   ]
  },
  {
   "cell_type": "code",
   "execution_count": 73,
   "metadata": {
    "collapsed": true
   },
   "outputs": [
    {
     "name": "stdout",
     "output_type": "stream",
     "text": [
      "[0 1 2]\n",
      "[0.         1.         1.41421356]\n",
      "[1.         2.71828183 7.3890561 ]\n"
     ]
    }
   ],
   "source": [
    "arr = np.arange(3)\n",
    "print(arr)\n",
    "#унарні\n",
    "print(np.sqrt(arr))\n",
    "print(np.exp(arr))"
   ]
  },
  {
   "cell_type": "code",
   "execution_count": 91,
   "metadata": {
    "collapsed": true
   },
   "outputs": [
    {
     "name": "stdout",
     "output_type": "stream",
     "text": [
      "[-1.78454655  1.47390533  2.22079849 -0.04962555]\n",
      "[ 0.61933424  0.05320573  0.31767471 -0.07667277]\n",
      "[ 0.61933424  1.47390533  2.22079849 -0.04962555]\n",
      "[-1.16521232  1.52711105  2.5384732  -0.12629832]\n"
     ]
    }
   ],
   "source": [
    "x = np.random.randn(4)\n",
    "print(x)\n",
    "y = np.random.randn(4)\n",
    "print(y)\n",
    "#бінарні\n",
    "print(np.maximum(x,y))\n",
    "print(np.add(x,y))\n",
    "#..."
   ]
  },
  {
   "cell_type": "markdown",
   "metadata": {},
   "source": [
    "### Векторизація\n",
    "спосіб обробки даних через команди NumPy, без застосування циклів чистого python\n",
    "тому більшість операцій математичних статичних і логічних записуються за допомогою стандартних функцій np\n"
   ]
  },
  {
   "cell_type": "code",
   "execution_count": 112,
   "metadata": {},
   "outputs": [
    {
     "data": {
      "text/plain": [
       "Text(0.5,1,'Image plot of $\\\\sqrt{x^2+y^2}$ for a grid of values')"
      ]
     },
     "execution_count": 112,
     "metadata": {},
     "output_type": "execute_result"
    },
    {
     "data": {
      "image/png": "[encoded data removed]",
      "text/plain": [
       "<Figure size 432x288 with 2 Axes>"
      ]
     },
     "metadata": {
      "needs_background": "light"
     },
     "output_type": "display_data"
    }
   ],
   "source": [
    "points = np.arange(-1,1, 0.01)\n",
    "\n",
    "xs,ys = np.meshgrid(points,points)#з двох одномірних масивів робить \n",
    "z = np.sqrt(xs **2 + ys ** 2)\n",
    "plt.imshow(z,cmap=plt.cm.gray);plt.colorbar()\n",
    "plt.title(\"Image plot of $\\sqrt{x^2+y^2}$ for a grid of values\")"
   ]
  },
  {
   "cell_type": "code",
   "execution_count": 116,
   "metadata": {},
   "outputs": [
    {
     "data": {
      "text/plain": [
       "array([1, 3, 3, 1])"
      ]
     },
     "execution_count": 116,
     "metadata": {},
     "output_type": "execute_result"
    }
   ],
   "source": [
    "#Задача:беремо значення з x\n",
    "#       якщо відповідне значення flags True \n",
    "#       іначе беремо з y \n",
    "x = np.array([1,2,3,4])\n",
    "y = np.array([4,3,2,1])\n",
    "flags = np.array([True,False,True,False])\n",
    "result = np.where(flags,x,y)\n",
    "print(result)"
   ]
  },
  {
   "cell_type": "code",
   "execution_count": 118,
   "metadata": {},
   "outputs": [
    {
     "data": {
      "text/plain": [
       "array([1, 2, 2, 2])"
      ]
     },
     "execution_count": 118,
     "metadata": {},
     "output_type": "execute_result"
    }
   ],
   "source": [
    "#Задача: значення більші 2 замінити на 2 \n",
    "np.where(x > 2, 2, x)#в кінці х, бо то дія коли else"
   ]
  },
  {
   "cell_type": "markdown",
   "metadata": {},
   "source": [
    "### Математичні і статичні операції\n"
   ]
  },
  {
   "cell_type": "code",
   "execution_count": 124,
   "metadata": {},
   "outputs": [
    {
     "name": "stdout",
     "output_type": "stream",
     "text": [
      "[[ 0.006677    2.01729022]\n",
      " [-1.76835036 -1.38525811]]\n",
      "[-0.88083668  0.31601606]\n",
      "[-1.76167336  0.63203212]\n",
      "1.482943451067776\n",
      "2.199121279064805\n"
     ]
    }
   ],
   "source": [
    "arr = np.random.randn(2,2)\n",
    "print(arr)\n",
    "print(arr.mean(axis = 0))#середнє арифметичне по осі 0\n",
    "print(arr.sum(axis = 0))#сума елементів відносно осі 0\n",
    "print(arr.std())# стандартне відхилення\n",
    "print(arr.var())# дисперсія"
   ]
  },
  {
   "cell_type": "markdown",
   "metadata": {},
   "source": [
    "### Сортування"
   ]
  },
  {
   "cell_type": "code",
   "execution_count": 127,
   "metadata": {},
   "outputs": [
    {
     "data": {
      "text/plain": [
       "array([-1.20119867, -0.78890291, -0.47739727, -0.41721211,  0.08415602,\n",
       "        0.56374927,  0.95548764,  1.3790764 ])"
      ]
     },
     "execution_count": 127,
     "metadata": {},
     "output_type": "execute_result"
    }
   ],
   "source": [
    "arr = np.random.randn(8)\n",
    "np.sort(arr)\n"
   ]
  },
  {
   "cell_type": "markdown",
   "metadata": {},
   "source": [
    "### Операції з множинами \n",
    "* ``np.unique(names)`` - повертає унікальні значення одномірної матриці\n",
    "* ``np.in1d(arr1, arr2)`` - перевіряє чи присутні елементи однієї множини в іншій і повертає булеву матрицю з результатами\n",
    "і ще декілька \n"
   ]
  },
  {
   "cell_type": "markdown",
   "metadata": {},
   "source": [
    "### Робота з файлами\n",
    "Можна працювати з тхт і таблицями \n",
    "А можна ось так:"
   ]
  },
  {
   "cell_type": "code",
   "execution_count": 132,
   "metadata": {},
   "outputs": [],
   "source": [
    "arr = np.arange(10)\n",
    "np.save('array',arr)"
   ]
  },
  {
   "cell_type": "code",
   "execution_count": 133,
   "metadata": {},
   "outputs": [
    {
     "data": {
      "text/plain": [
       "array([0, 1, 2, 3, 4, 5, 6, 7, 8, 9])"
      ]
     },
     "execution_count": 133,
     "metadata": {},
     "output_type": "execute_result"
    }
   ],
   "source": [
    "np.load('array.npy')"
   ]
  },
  {
   "cell_type": "markdown",
   "metadata": {},
   "source": [
    "## Лінійна Алгебра\n",
    "* визначник\n",
    "* множення\n",
    "* сумадіагональних елементів\n",
    "* Власні значення\n",
    "* обернена матриця\n",
    "* QR - розклад\n",
    "* SVD - розклад\n",
    "* вирішує Ax = b\n",
    "* вирішує рівняння y = Xb(МНК)\n",
    "* повертає діагональ як вектор\n",
    "* псевдообернена матриця Мура-Пенроуз для квадратної матриці\n"
   ]
  },
  {
   "cell_type": "code",
   "execution_count": 138,
   "metadata": {},
   "outputs": [
    {
     "data": {
      "text/plain": [
       "array([[ 0.08918235, -0.0750577 ,  0.21911301],\n",
       "       [-5.11020844, -0.50696626, -2.00262123],\n",
       "       [-1.50568822, -0.19805172, -0.49003757]])"
      ]
     },
     "execution_count": 138,
     "metadata": {},
     "output_type": "execute_result"
    }
   ],
   "source": [
    "x = np.random.randn(3,3)\n",
    "y = np.random.randn(3,3)\n",
    "np.dot(x,y)#перемножує дві матриці"
   ]
  }
 ],
 "metadata": {
  "kernelspec": {
   "display_name": "Python 3",
   "language": "python",
   "name": "python3"
  },
  "language_info": {
   "codemirror_mode": {
    "name": "ipython",
    "version": 3
   },
   "file_extension": ".py",
   "mimetype": "text/x-python",
   "name": "python",
   "nbconvert_exporter": "python",
   "pygments_lexer": "ipython3",
   "version": "3.7.0"
  }
 },
 "nbformat": 4,
 "nbformat_minor": 2
}
